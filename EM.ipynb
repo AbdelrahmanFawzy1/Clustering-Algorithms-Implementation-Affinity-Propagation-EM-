{
 "cells": [
  {
   "cell_type": "code",
   "execution_count": 554,
   "id": "09c5069a",
   "metadata": {},
   "outputs": [],
   "source": [
    "import numpy as np\n",
    "import pandas as pd\n",
    "import matplotlib.pyplot as plt\n",
    "from sklearn.metrics import classification_report\n",
    "from scipy.stats import multivariate_normal\n",
    "from sklearn.mixture import GaussianMixture\n",
    "from sklearn.preprocessing import StandardScaler"
   ]
  },
  {
   "cell_type": "code",
   "execution_count": 555,
   "id": "a0125072",
   "metadata": {},
   "outputs": [],
   "source": [
    "from keras.datasets import mnist\n",
    "(train_X, train_y), (test_X, test_y) = mnist.load_data()"
   ]
  },
  {
   "cell_type": "code",
   "execution_count": 556,
   "id": "314d5ad9",
   "metadata": {},
   "outputs": [],
   "source": [
    "train_X= train_X.reshape(60000, 784)\n",
    "test_X=test_X.reshape(10000, 784)"
   ]
  },
  {
   "cell_type": "code",
   "execution_count": 557,
   "id": "4910ed36",
   "metadata": {},
   "outputs": [],
   "source": [
    "train_y=train_y.reshape(60000,1)\n",
    "test_y=test_y.reshape(10000,1)"
   ]
  },
  {
   "cell_type": "code",
   "execution_count": 558,
   "id": "ca463ff2",
   "metadata": {},
   "outputs": [
    {
     "name": "stdout",
     "output_type": "stream",
     "text": [
      "(60000, 784)\n",
      "(60000, 1)\n"
     ]
    }
   ],
   "source": [
    "print(train_X.shape)\n",
    "print(train_y.shape)"
   ]
  },
  {
   "cell_type": "code",
   "execution_count": 13,
   "id": "3dd8b639",
   "metadata": {},
   "outputs": [
    {
     "name": "stdout",
     "output_type": "stream",
     "text": [
      "(3, 1)\n"
     ]
    },
    {
     "data": {
      "text/plain": [
       "array([[ 0,  0,  0,  0],\n",
       "       [ 4,  5,  6,  7],\n",
       "       [16, 18, 20, 22]])"
      ]
     },
     "execution_count": 13,
     "metadata": {},
     "output_type": "execute_result"
    }
   ],
   "source": [
    "A = np.array([0, 1, 2])\n",
    "\n",
    "B = np.array([[ 0,  1,  2,  3],\n",
    "              [ 4,  5,  6,  7],\n",
    "              [ 8,  9, 10, 11]])\n",
    "print(A[:,np.newaxis].shape)\n",
    "(A[:, np.newaxis] * B)"
   ]
  },
  {
   "cell_type": "markdown",
   "id": "eca82035",
   "metadata": {},
   "source": [
    "# EM FULL IMPLEMENTATION"
   ]
  },
  {
   "cell_type": "code",
   "execution_count": 16,
   "id": "1ae7b90c",
   "metadata": {},
   "outputs": [],
   "source": [
    "class EM__:\n",
    "    \n",
    "    def __init__(self, clusters_n=2):\n",
    "        \n",
    "        self.clusters_n = clusters_n\n",
    "        \n",
    "    def fit(self, X_data, iterations=100):\n",
    "        \n",
    "        self.iteration_n=iterations\n",
    "        \n",
    "        n_samples, n_dimension =  X_data.shape\n",
    "        \n",
    "        print(n_samples, n_dimension)\n",
    "        \n",
    "        init_means = np.random.choice(n_samples, self.clusters_n,replace=False)\n",
    "        \n",
    "        self.means = X_data[init_means,:]\n",
    "        \n",
    "        self.convariance = np.stack([np.eye(n_dimension)]* self.clusters_n,axis=0)\n",
    "        \n",
    "        print(self.means.shape, self.convariance.shape)\n",
    "\n",
    "        \n",
    "        self.mixing_coeffs = np.full(self.clusters_n,1/self.clusters_n)\n",
    "        \n",
    "        for i in range(self.iteration_n):\n",
    "            \n",
    "            self.responsibilities = self.E_step(X_data)\n",
    "                \n",
    "            self.M_step(X_data)\n",
    "            \n",
    "        return self.means, self.covariance\n",
    "    \n",
    "    def E_step(self, X_data):\n",
    "        \n",
    "        responsibilties = np.zeros( [X_data.shape[0], self.clusters_n])\n",
    "        \n",
    "        D =[ (np.linalg.det(self.convariance[j]))**0.5 for j in range(self.clusters_n)]\n",
    "        \n",
    "        Inv= [ np.linalg.inv(self.convariance[j]) for j in range(self.clusters_n)]\n",
    "        \n",
    "        for i in range(X_data.shape[0]):\n",
    "            \n",
    "            for j in range(self.clusters_n):\n",
    "                \n",
    "                responsibilties[i,j]= self.mixing_coeffs[j]/(D[j]) * np.exp(-0.5 * np.matmul( np.matmul((X_data[i]-self.means[j]).T, Inv[j]), X_data[i]-self.means[j]))   \n",
    "        \n",
    "        responsibilties =np.array(responsibilties)\n",
    "        \n",
    "        responsibilties = responsibilties/(np.sum(responsibilties,axis=1,keepdims=True))\n",
    "\n",
    "        return responsibilties\n",
    "    \n",
    "    \n",
    "    def M_step(self, X_data):\n",
    "        \n",
    "        n_samples, n_dimension =  X_data.shape\n",
    "        \n",
    "        resp = self.responsibilities\n",
    "        \n",
    "        print(resp[1])\n",
    "        \n",
    "        new_mean = np.ones([self.clusters_n, n_dimension])\n",
    "        \n",
    "        print(new_mean.shape)\n",
    "        \n",
    "        \n",
    "        for i in range(self.clusters_n):\n",
    "            \n",
    "            new_mean[i] = np.sum (resp[:,i:i+1]*X_data ,axis=0 )/np.sum(resp[:,i],axis=0)\n",
    "        \n",
    "        self.means = new_mean\n",
    "        \n",
    "        new_cov = np.zeros_like(self.convariance)\n",
    "        \n",
    "        for j in range(self.clusters_n):\n",
    "            \n",
    "            for i in range(n_samples):\n",
    "                \n",
    "                new_cov[j] += resp[i,j] * np.matmul( (X_data[i]-self.means[j])[:,np.newaxis], (X_data[i]-self.means[j])[:,np.newaxis].T )\n",
    "            \n",
    "            new_cov[j] = new_cov[j]/np.sum(resp[:,j])\n",
    "        \n",
    "        self.convariance = new_cov\n",
    "        \n",
    "        self.mixing_coeffs  = resp.sum()/X_data.shape[0]\n",
    "    \n",
    "    def predict(self,X):\n",
    "        \n",
    "        Init_W = self.E_Step(X)\n",
    "        \n",
    "        predicted = Init_W.argmax(axis=0)\n",
    "        \n",
    "        clusters = np.copy(X)\n",
    "        \n",
    "        for i,mean in enumerate(self.means):\n",
    "            \n",
    "            clusters[pred==i] = mean\n",
    "        \n",
    "        return clusters\n",
    "        "
   ]
  },
  {
   "cell_type": "code",
   "execution_count": 17,
   "id": "fd3e0019",
   "metadata": {},
   "outputs": [],
   "source": [
    "#The singularity problem is a strong problem that restricts the running of this model\n",
    "#source: https://nianlonggu.com/2019/07/10/tutorial-on-EM/"
   ]
  },
  {
   "cell_type": "markdown",
   "id": "1cc73b74",
   "metadata": {},
   "source": [
    "# EXPERIMENTING WITH SKLEARN"
   ]
  },
  {
   "cell_type": "code",
   "execution_count": 462,
   "id": "8478f58b",
   "metadata": {},
   "outputs": [],
   "source": [
    "z= StandardScaler()\n",
    "train_X= z.fit_transform(train_X)\n",
    "test_X= z.fit_transform(test_X)"
   ]
  },
  {
   "cell_type": "code",
   "execution_count": 463,
   "id": "1df9c2a2",
   "metadata": {},
   "outputs": [
    {
     "data": {
      "text/plain": [
       "GaussianMixture(max_iter=200, n_components=10)"
      ]
     },
     "execution_count": 463,
     "metadata": {},
     "output_type": "execute_result"
    }
   ],
   "source": [
    "EM= GaussianMixture(n_components = 10,covariance_type='full', max_iter=200)\n",
    "EM.fit(train_X)"
   ]
  },
  {
   "cell_type": "code",
   "execution_count": 464,
   "id": "acad31c6",
   "metadata": {},
   "outputs": [],
   "source": [
    "train_predicted= EM.predict(train_X)\n",
    "test_predicted= EM.predict(test_X)"
   ]
  },
  {
   "cell_type": "code",
   "execution_count": 465,
   "id": "e6f31b46",
   "metadata": {},
   "outputs": [
    {
     "name": "stdout",
     "output_type": "stream",
     "text": [
      "cluster 0\n",
      "7716 elements\n",
      "cluster 1\n",
      "9846 elements\n",
      "cluster 2\n",
      "3172 elements\n",
      "cluster 3\n",
      "2208 elements\n",
      "cluster 4\n",
      "7435 elements\n",
      "cluster 5\n",
      "2564 elements\n",
      "cluster 6\n",
      "2320 elements\n",
      "cluster 7\n",
      "14904 elements\n",
      "cluster 8\n",
      "4693 elements\n",
      "cluster 9\n",
      "5142 elements\n"
     ]
    }
   ],
   "source": [
    "(tr_x, tr_y), (ts_x, ts_y) = mnist.load_data()\n",
    "y_var=[]\n",
    "for i in range(10):\n",
    "    row = np.where(train_predicted==i)[0]  \n",
    "    num = row.shape[0]      \n",
    "    print(\"cluster \"+str(i))\n",
    "    print(str(num)+\" elements\")\n",
    "    l=[]\n",
    "    for k in range(num):\n",
    "        l.append(tr_y[row[k]])\n",
    "    y_var.append(l)"
   ]
  },
  {
   "cell_type": "code",
   "execution_count": 467,
   "id": "34b4029f",
   "metadata": {},
   "outputs": [
    {
     "name": "stdout",
     "output_type": "stream",
     "text": [
      "cluster 0\n",
      "Counter({7: 3607, 9: 2653, 4: 654, 1: 560, 3: 92, 8: 91, 5: 55, 0: 2, 2: 2})\n",
      "cluster 1\n",
      "Counter({0: 3739, 2: 2476, 3: 952, 6: 739, 5: 732, 4: 527, 8: 488, 1: 92, 7: 53, 9: 48})\n",
      "cluster 2\n",
      "Counter({1: 3131, 2: 11, 8: 11, 7: 7, 3: 5, 4: 3, 6: 2, 9: 1, 5: 1})\n",
      "cluster 3\n",
      "Counter({2: 1219, 3: 351, 6: 301, 0: 80, 4: 79, 5: 76, 8: 47, 1: 31, 9: 16, 7: 8})\n",
      "cluster 4\n",
      "Counter({4: 2883, 9: 2483, 7: 1156, 8: 326, 1: 203, 3: 192, 5: 145, 2: 41, 6: 3, 0: 3})\n",
      "cluster 5\n",
      "Counter({7: 1050, 3: 404, 9: 398, 4: 271, 8: 154, 2: 126, 5: 112, 0: 35, 1: 9, 6: 5})\n",
      "cluster 6\n",
      "Counter({2: 920, 3: 856, 5: 159, 6: 147, 4: 104, 0: 66, 8: 28, 1: 24, 7: 9, 9: 7})\n",
      "cluster 7\n",
      "Counter({8: 3666, 3: 2958, 1: 2475, 5: 1898, 0: 1806, 2: 891, 4: 698, 6: 231, 9: 180, 7: 101})\n",
      "cluster 8\n",
      "Counter({5: 2154, 8: 1014, 4: 554, 7: 273, 3: 240, 9: 162, 0: 119, 1: 102, 6: 51, 2: 24})\n",
      "cluster 9\n",
      "Counter({6: 4439, 2: 248, 1: 115, 5: 89, 3: 81, 0: 73, 4: 69, 8: 26, 9: 1, 7: 1})\n"
     ]
    }
   ],
   "source": [
    "import collections\n",
    "i=0\n",
    "for l in y_var:\n",
    "    counter=collections.Counter(l)\n",
    "    print(\"cluster\", i)\n",
    "    print(counter)\n",
    "    i+=1"
   ]
  },
  {
   "cell_type": "code",
   "execution_count": 468,
   "id": "54c7b851",
   "metadata": {},
   "outputs": [],
   "source": [
    "#MAnual Declaration of the clusters centers with the most frequen number in that cluster\n",
    "#Avoiding the repetition by taking the next frequent number if the first is already a center of another cluster\n",
    "dict={}\n",
    "dict[0]=7\n",
    "dict[1]=0 \n",
    "dict[2]=1 \n",
    "dict[3]=2 \n",
    "dict[4]=4 \n",
    "dict[5]=3 \n",
    "dict[6]=9\n",
    "dict[7]=8 \n",
    "dict[8]=5 \n",
    "dict[9]=6"
   ]
  },
  {
   "cell_type": "code",
   "execution_count": 470,
   "id": "3677099d",
   "metadata": {
    "scrolled": true
   },
   "outputs": [
    {
     "name": "stdout",
     "output_type": "stream",
     "text": [
      "              precision    recall  f1-score   support\n",
      "\n",
      "           0       0.38      0.63      0.47      5923\n",
      "           1       0.99      0.46      0.63      6742\n",
      "           2       0.55      0.20      0.30      5958\n",
      "           3       0.16      0.07      0.09      6131\n",
      "           4       0.39      0.49      0.43      5842\n",
      "           5       0.46      0.40      0.43      5421\n",
      "           6       0.86      0.75      0.80      5918\n",
      "           7       0.47      0.58      0.52      6265\n",
      "           8       0.25      0.63      0.35      5851\n",
      "           9       0.00      0.00      0.00      5949\n",
      "\n",
      "    accuracy                           0.42     60000\n",
      "   macro avg       0.45      0.42      0.40     60000\n",
      "weighted avg       0.46      0.42      0.41     60000\n",
      "\n"
     ]
    }
   ],
   "source": [
    "predicted=[]\n",
    "for i in train_predicted:\n",
    "    predicted.append(dict[i])\n",
    "print(classification_report(train_y,predicted))"
   ]
  },
  {
   "cell_type": "markdown",
   "id": "44f07740",
   "metadata": {},
   "source": [
    "# Using the Contingency Matrix"
   ]
  },
  {
   "cell_type": "code",
   "execution_count": 472,
   "id": "b2936ff8",
   "metadata": {},
   "outputs": [],
   "source": [
    "from sklearn.metrics.cluster import contingency_matrix\n",
    "m = np.argmax(contingency_matrix(train_y, train_predicted), axis=1)"
   ]
  },
  {
   "cell_type": "code",
   "execution_count": 473,
   "id": "f5d31b8f",
   "metadata": {},
   "outputs": [
    {
     "name": "stdout",
     "output_type": "stream",
     "text": [
      "              precision    recall  f1-score   support\n",
      "\n",
      "           0       0.81      0.51      0.63     12214\n",
      "           1       0.63      0.52      0.57     11881\n",
      "           2       0.99      0.46      0.63      6742\n",
      "           3       0.00      0.00      0.00         0\n",
      "           4       0.39      0.49      0.43      5842\n",
      "           5       0.00      0.00      0.00         0\n",
      "           6       0.00      0.00      0.00         0\n",
      "           7       0.44      0.55      0.49     11982\n",
      "           8       0.46      0.40      0.43      5421\n",
      "           9       0.86      0.75      0.80      5918\n",
      "\n",
      "    accuracy                           0.53     60000\n",
      "   macro avg       0.46      0.37      0.40     60000\n",
      "weighted avg       0.65      0.53      0.57     60000\n",
      "\n"
     ]
    },
    {
     "name": "stderr",
     "output_type": "stream",
     "text": [
      "C:\\Python\\Python39\\lib\\site-packages\\sklearn\\metrics\\_classification.py:1308: UndefinedMetricWarning: Recall and F-score are ill-defined and being set to 0.0 in labels with no true samples. Use `zero_division` parameter to control this behavior.\n",
      "  _warn_prf(average, modifier, msg_start, len(result))\n",
      "C:\\Python\\Python39\\lib\\site-packages\\sklearn\\metrics\\_classification.py:1308: UndefinedMetricWarning: Recall and F-score are ill-defined and being set to 0.0 in labels with no true samples. Use `zero_division` parameter to control this behavior.\n",
      "  _warn_prf(average, modifier, msg_start, len(result))\n",
      "C:\\Python\\Python39\\lib\\site-packages\\sklearn\\metrics\\_classification.py:1308: UndefinedMetricWarning: Recall and F-score are ill-defined and being set to 0.0 in labels with no true samples. Use `zero_division` parameter to control this behavior.\n",
      "  _warn_prf(average, modifier, msg_start, len(result))\n"
     ]
    }
   ],
   "source": [
    "print(classification_report(m[train_y], train_predicted))"
   ]
  },
  {
   "cell_type": "code",
   "execution_count": 477,
   "id": "ccc3c5bf",
   "metadata": {},
   "outputs": [
    {
     "data": {
      "image/png": "[encoded data removed]",
      "text/plain": [
       "<Figure size 432x288 with 1 Axes>"
      ]
     },
     "metadata": {
      "needs_background": "light"
     },
     "output_type": "display_data"
    },
    {
     "data": {
      "image/png": "[encoded data removed]",
      "text/plain": [
       "<Figure size 432x288 with 1 Axes>"
      ]
     },
     "metadata": {
      "needs_background": "light"
     },
     "output_type": "display_data"
    },
    {
     "data": {
      "image/png": "[encoded data removed]",
      "text/plain": [
       "<Figure size 432x288 with 1 Axes>"
      ]
     },
     "metadata": {
      "needs_background": "light"
     },
     "output_type": "display_data"
    },
    {
     "data": {
      "image/png": "[encoded data removed]",
      "text/plain": [
       "<Figure size 432x288 with 1 Axes>"
      ]
     },
     "metadata": {
      "needs_background": "light"
     },
     "output_type": "display_data"
    },
    {
     "data": {
      "image/png": "[encoded data removed]",
      "text/plain": [
       "<Figure size 432x288 with 1 Axes>"
      ]
     },
     "metadata": {
      "needs_background": "light"
     },
     "output_type": "display_data"
    },
    {
     "data": {
      "image/png": "[encoded data removed]",
      "text/plain": [
       "<Figure size 432x288 with 1 Axes>"
      ]
     },
     "metadata": {
      "needs_background": "light"
     },
     "output_type": "display_data"
    },
    {
     "data": {
      "image/png": "[encoded data removed]",
      "text/plain": [
       "<Figure size 432x288 with 1 Axes>"
      ]
     },
     "metadata": {
      "needs_background": "light"
     },
     "output_type": "display_data"
    },
    {
     "data": {
      "image/png": "[encoded data removed]",
      "text/plain": [
       "<Figure size 432x288 with 1 Axes>"
      ]
     },
     "metadata": {
      "needs_background": "light"
     },
     "output_type": "display_data"
    },
    {
     "data": {
      "image/png": "[encoded data removed]",
      "text/plain": [
       "<Figure size 432x288 with 1 Axes>"
      ]
     },
     "metadata": {
      "needs_background": "light"
     },
     "output_type": "display_data"
    },
    {
     "data": {
      "image/png": "[encoded data removed]",
      "text/plain": [
       "<Figure size 432x288 with 1 Axes>"
      ]
     },
     "metadata": {
      "needs_background": "light"
     },
     "output_type": "display_data"
    }
   ],
   "source": [
    "mean_vector = EM.means_\n",
    "for v in mean_vector:\n",
    "    plt.imshow(v.reshape(28,28)) \n",
    "    plt.show()"
   ]
  },
  {
   "cell_type": "code",
   "execution_count": null,
   "id": "b853115c",
   "metadata": {},
   "outputs": [],
   "source": []
  }
 ],
 "metadata": {
  "kernelspec": {
   "display_name": "Python 3 (ipykernel)",
   "language": "python",
   "name": "python3"
  },
  "language_info": {
   "codemirror_mode": {
    "name": "ipython",
    "version": 3
   },
   "file_extension": ".py",
   "mimetype": "text/x-python",
   "name": "python",
   "nbconvert_exporter": "python",
   "pygments_lexer": "ipython3",
   "version": "3.9.7"
  }
 },
 "nbformat": 4,
 "nbformat_minor": 5
}
